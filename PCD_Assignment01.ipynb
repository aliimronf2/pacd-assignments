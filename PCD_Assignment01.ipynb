{
  "nbformat": 4,
  "nbformat_minor": 0,
  "metadata": {
    "colab": {
      "provenance": [],
      "collapsed_sections": [
        "x2UrHvRquf4U",
        "FpoBpcFTxc_3",
        "ucu-Wdi7c917",
        "mRWvRjCCxkYW",
        "JKmgxoN8lBTt",
        "9huwo7KrmfB7",
        "b4HL_b3QniNq",
        "OK5LlI9UoUTi",
        "BPWa26lSo5gN",
        "vafIPK-JpZZp",
        "dxfUM82FsvmQ",
        "ljarQD5StLjo",
        "qC50-aI5tjNH"
      ],
      "authorship_tag": "ABX9TyPI9jVRfjIWj9Ex/2gsGXZU",
      "include_colab_link": true
    },
    "kernelspec": {
      "name": "python3",
      "display_name": "Python 3"
    },
    "language_info": {
      "name": "python"
    }
  },
  "cells": [
    {
      "cell_type": "markdown",
      "metadata": {
        "id": "view-in-github",
        "colab_type": "text"
      },
      "source": [
        "<a href=\"https://colab.research.google.com/github/aliimronf2/pacd-assignments/blob/main/PCD_Assignment01.ipynb\" target=\"_parent\"><img src=\"https://colab.research.google.com/assets/colab-badge.svg\" alt=\"Open In Colab\"/></a>"
      ]
    },
    {
      "cell_type": "markdown",
      "source": [
        "Notebook ini disusun oleh Ali Imron Filayaty Faqih untuk memenuhi tugas 1st Assignment.\n",
        "\n",
        "Notebook ini membahas metode _downsampling_ dan _upsampling_ dengan menyertakan dua bagian:\n",
        "- Teori yang diambil dari referensi.\n",
        "- Kode Python untuk memberikan demonstrasi program dari kedua metode tersebut untuk array 2D versi grayscale.\n",
        "\n",
        "Input dari setiap program adalah Numpy array 2D versi grayscale dalam ukuran yang dianggap 8-bit.\n",
        "Output dapat berupa array 2D atau grafik yang dibuat dengan library matplotlib."
      ],
      "metadata": {
        "id": "boemcvYXSEm7"
      }
    },
    {
      "cell_type": "markdown",
      "source": [
        "# Downsampling"
      ],
      "metadata": {
        "id": "LUjkackkSbAF"
      }
    },
    {
      "cell_type": "markdown",
      "source": [
        "## Teori Downsampling"
      ],
      "metadata": {
        "id": "x2UrHvRquf4U"
      }
    },
    {
      "cell_type": "markdown",
      "source": [
        "Ada tiga metode untuk melakukan downsampling pada citra, antara lain:\n",
        "- Max pooling, yaitu mengambil nilai maksimum dari setiap sub-matriks (patch)\n",
        "- Mean pooling, yaitu mengambil rata-rata dari setiap sub-matriks (patch)\n",
        "- Median pooling, yaitu mengambil median dari setiap sub-matriks (patch)"
      ],
      "metadata": {
        "id": "fqa1tADAuk5C"
      }
    },
    {
      "cell_type": "markdown",
      "source": [
        "**Rumus ukuran output pada downsampling**\n",
        "\n",
        "Citra berukuran $H\\times W$, jika di-_downsampling_ dengan kernel berukuran $k\\times k$, stride $s$ dan padding $p$, akan menghasilkan output berukuran\n",
        "$$\\text{out}_h = \\left\\lfloor \\frac{H-k+2p}{s}\\right\\rfloor + 1$$\n",
        "$$\\text{out}_w = \\left\\lfloor \\frac{W-k+2p}{s}\\right\\rfloor + 1$$\n",
        "\n",
        "Keterangan:\n",
        "- kernel: matriks kecil yang digeser melintasi citra\n",
        "- stride: langkah pergeseran patch (sub-matriks) di sepanjang baris dan kolom.\n",
        "- padding: menambah baris atau kolom ekstra, agar ukuran matriks pas dengan kernel dan stride"
      ],
      "metadata": {
        "id": "3zxjyUj3wjY7"
      }
    },
    {
      "cell_type": "markdown",
      "source": [
        "**Contoh:**\n",
        "\n",
        "Diberikan block pixel sebagai berikut:\n",
        "<center>\n",
        "<table>\n",
        "    <tr><td>76</td><td>124</td><td>244</td><td>180</td></tr>\n",
        "    <tr><td>60</td><td>72</td><td>92</td><td>108</td></tr>\n",
        "    <tr><td>24</td><td>98</td><td>130</td><td>126</td></tr>\n",
        "    <tr><td>80</td><td>235</td><td>112</td><td>142</td></tr>\n",
        "</table>\n",
        "</center>\n",
        "\n",
        "Block di atas dibagi menjadi 4 sub-matriks berukuran 2x2, dengan kernel 2 dan stride 2, diperoleh output dengan ukuran\n",
        "$$\\text{tinggi} = \\text{out}_h = \\left\\lfloor \\frac{4-2}{2} \\right\\rfloor + 1 = 2$$\n",
        "$$\\text{lebar} = \\text{out}_w = \\left\\lfloor \\frac{4-2}{2} \\right\\rfloor + 1 = 2$$\n",
        "\n",
        "Dengan demikian, matriks di atas dibagi menjadi\n",
        "\n",
        "- Patch A:\n",
        "  <center>\n",
        "  <table>\n",
        "      <tr><td>76</td><td>124</td></tr>\n",
        "      <tr><td>60</td><td>72</td></tr>\n",
        "  </table>\n",
        "  </center>\n",
        "\n",
        "- Patch B:\n",
        "  <center>\n",
        "  <table>\n",
        "      <tr><td>244</td><td>180</td></tr>\n",
        "      <tr><td>92</td><td>108</td></tr>\n",
        "  </table>\n",
        "  </center>\n",
        "\n",
        "- Patch C:\n",
        "  <center>\n",
        "  <table>\n",
        "      <tr><td>24</td><td>98</td></tr>\n",
        "      <tr><td>80</td><td>235</td></tr>\n",
        "  </table>\n",
        "  </center>\n",
        "\n",
        "- Patch D:\n",
        "  <center>\n",
        "  <table>\n",
        "      <tr><td>130</td><td>126</td></tr>\n",
        "      <tr><td>112</td><td>142</td></tr>\n",
        "  </table>\n",
        "  </center>"
      ],
      "metadata": {
        "id": "Z5sdLu0gbOTQ"
      }
    },
    {
      "cell_type": "markdown",
      "source": [
        "## Contoh Downsampling dengan Max Pooling"
      ],
      "metadata": {
        "id": "FpoBpcFTxc_3"
      }
    },
    {
      "cell_type": "markdown",
      "source": [
        "Max pooling memilih nilai maksimum dari setiap sub-matriks (patch) pada contoh di atas, sebagai berikut:\n",
        "\n",
        "- Dari patch A,\n",
        "    <table>\n",
        "        <tr><td>76</td><td>124</td></tr>\n",
        "        <tr><td>60</td><td>72</td></tr>\n",
        "    </table>\n",
        "\n",
        "    diperoleh nilai maksimum 124.\n",
        "\n",
        "- Dari patch B,\n",
        "    <table>\n",
        "        <tr><td>244</td><td>180</td></tr>\n",
        "        <tr><td>92</td><td>108</td></tr>\n",
        "    </table>\n",
        "\n",
        "    diperoleh nilai maksimum 244.\n",
        "\n",
        "- Dari patch C,\n",
        "    <table>\n",
        "        <tr><td>24</td><td>98</td></tr>\n",
        "        <tr><td>80</td><td>235</td></tr>\n",
        "    </table>\n",
        "\n",
        "    diperoleh nilai maksimum 235.\n",
        "\n",
        "- dari patch D,\n",
        "    <table>\n",
        "        <tr><td>130</td><td>126</td></tr>\n",
        "        <tr><td>112</td><td>142</td></tr>\n",
        "    </table>\n",
        "\n",
        "    diperoleh nilai maksimum 142.\n",
        "  \n",
        "\n",
        "Dengan demikian, diperoleh citra hasil downsampling dengan max pooling adalah\n",
        "<center>\n",
        "    <table>\n",
        "        <tr><td>124</td><td>244</td></tr>\n",
        "        <tr><td>235</td><td>142</td></tr>\n",
        "    </table>\n",
        "</center>"
      ],
      "metadata": {
        "id": "iTnGdd4eXm5E"
      }
    },
    {
      "cell_type": "markdown",
      "source": [
        "## Implementasi Max Pooling dengan Program Python"
      ],
      "metadata": {
        "id": "ucu-Wdi7c917"
      }
    },
    {
      "cell_type": "markdown",
      "source": [
        "Pada program di bawah ini, digunakan library numpy untuk menuliskan array 2D beserta fungsi aggregat seperti max, mean, dan median."
      ],
      "metadata": {
        "id": "g3VDe5JFdDmK"
      }
    },
    {
      "cell_type": "code",
      "source": [
        "import numpy as np\n",
        "\n",
        "def downsampling_max(img, target_h, target_w):\n",
        "    '''\n",
        "    Downsampling 2D untuk array 2D (grayscale) menggunakan max pooling\n",
        "    - img: np.ndarray shape (height, width)\n",
        "    - target_h: tinggi citra hasil downsampling\n",
        "    - target_w: lebar citra hasil downsampling\n",
        "    '''\n",
        "    H, W = img.shape\n",
        "    out = np.zeros((target_h, target_w), dtype=np.float64)\n",
        "\n",
        "    h_block = H / target_h\n",
        "    w_block = W / target_w\n",
        "\n",
        "    for i in range(target_h):\n",
        "        for j in range(target_w):\n",
        "            row_start = int(i * h_block)\n",
        "            row_end   = int((i + 1) * h_block)\n",
        "            col_start = int(j * w_block)\n",
        "            col_end   = int((j + 1) * w_block)\n",
        "            patch = img[row_start:row_end, col_start:col_end]\n",
        "\n",
        "            out[i, j] = np.max(patch)\n",
        "\n",
        "    return out.astype(np.uint8)"
      ],
      "metadata": {
        "id": "pdqIAl8mdUxs"
      },
      "execution_count": 201,
      "outputs": []
    },
    {
      "cell_type": "code",
      "source": [
        "# Contoh penggunaan dengan matriks yang diberikan di atas\n",
        "X4 = np.array([\n",
        "    [ 76, 124, 244, 180],\n",
        "    [ 60,  72,  92, 108],\n",
        "    [ 24,  98, 130, 126],\n",
        "    [ 80, 235, 112, 142]\n",
        "], dtype=np.float64)\n",
        "\n",
        "down_max = downsampling_max(X4, 2, 2)"
      ],
      "metadata": {
        "id": "Hbyvb33XdbU-"
      },
      "execution_count": 202,
      "outputs": []
    },
    {
      "cell_type": "code",
      "source": [
        "print(\"Hasil downsampling dengan max pooling adalah\\n\", down_max)"
      ],
      "metadata": {
        "colab": {
          "base_uri": "https://localhost:8080/"
        },
        "id": "BiBDlgAregn5",
        "outputId": "a2e8a7d7-99b1-4e88-b94e-7c6315cebc37"
      },
      "execution_count": 203,
      "outputs": [
        {
          "output_type": "stream",
          "name": "stdout",
          "text": [
            "Hasil downsampling dengan max pooling adalah\n",
            " [[124 244]\n",
            " [235 142]]\n"
          ]
        }
      ]
    },
    {
      "cell_type": "markdown",
      "source": [
        "**Visualisasi dengan matplotlib**\n",
        "\n",
        "Berikut visualisasi dari citra asli dengan citra hasil downsampling:"
      ],
      "metadata": {
        "id": "3fP6x2dqeXMh"
      }
    },
    {
      "cell_type": "code",
      "source": [
        "import matplotlib.pyplot as plt\n",
        "\n",
        "fig, axs = plt.subplots(1, 2, figsize=(8, 4))\n",
        "\n",
        "axs[0].imshow(X4, cmap=\"gray\", interpolation=\"nearest\")\n",
        "axs[0].set_title(\"Original 4x4\")\n",
        "for (i, j), val in np.ndenumerate(X):\n",
        "    axs[0].text(j, i, int(val), ha=\"center\", va=\"center\", color=\"red\")\n",
        "\n",
        "axs[1].imshow(down_max, cmap=\"gray\", interpolation=\"nearest\")\n",
        "axs[1].set_title(\"After Downsampling (2x2)\")\n",
        "for (i, j), val in np.ndenumerate(down_max):\n",
        "    axs[1].text(j, i, int(val), ha=\"center\", va=\"center\", color=\"red\")\n",
        "\n",
        "plt.tight_layout()\n",
        "plt.show()"
      ],
      "metadata": {
        "colab": {
          "base_uri": "https://localhost:8080/",
          "height": 407
        },
        "id": "Xpka-LLqe_tm",
        "outputId": "38b9dffd-e872-471c-e3ee-6b6af1b626dc"
      },
      "execution_count": 204,
      "outputs": [
        {
          "output_type": "display_data",
          "data": {
            "text/plain": [
              "<Figure size 800x400 with 2 Axes>"
            ],
            "image/png": "[encoded data removed]"
          },
          "metadata": {}
        }
      ]
    },
    {
      "cell_type": "markdown",
      "source": [
        "## Downsampling Max Pooling & Quantization"
      ],
      "metadata": {
        "id": "mRWvRjCCxkYW"
      }
    },
    {
      "cell_type": "markdown",
      "source": [
        "Pada program di bawah ini, ditunjukkan downsampling dengan max pooling yang dilanjutkan dengan quantization untuk 2-bit, 4-bit, dan 8-bit."
      ],
      "metadata": {
        "id": "_5okSWZjffkR"
      }
    },
    {
      "cell_type": "code",
      "source": [
        "import numpy as np\n",
        "import matplotlib.pyplot as plt\n",
        "\n",
        "import numpy as np\n",
        "\n",
        "def downsampling_max(img, target_h, target_w):\n",
        "    '''\n",
        "    Downsampling 2D untuk array 2D (grayscale) menggunakan max pooling\n",
        "    - img: np.ndarray shape (height, width)\n",
        "    - target_h: tinggi citra hasil downsampling\n",
        "    - target_w: lebar citra hasil downsampling\n",
        "    '''\n",
        "    H, W = img.shape\n",
        "    out = np.zeros((target_h, target_w), dtype=np.float64)\n",
        "\n",
        "    h_block = H / target_h\n",
        "    w_block = W / target_w\n",
        "\n",
        "    for i in range(target_h):\n",
        "        for j in range(target_w):\n",
        "            row_start = int(i * h_block)\n",
        "            row_end   = int((i + 1) * h_block)\n",
        "            col_start = int(j * w_block)\n",
        "            col_end   = int((j + 1) * w_block)\n",
        "            patch = img[row_start:row_end, col_start:col_end]\n",
        "\n",
        "            out[i, j] = np.max(patch)\n",
        "\n",
        "    return out.astype(np.uint8)\n",
        "\n",
        "def quantize_index(img, out_bit=2):\n",
        "    \"\"\"\n",
        "    Kuantisasi gambar ke indeks level (0 .. 2^out_bit - 1)\n",
        "    \"\"\"\n",
        "    levels = 2 ** out_bit\n",
        "    img_min, img_max = img.min(), img.max()\n",
        "    # Normalisasi\n",
        "    norm = (img - img_min) / (img_max - img_min)\n",
        "\n",
        "    q_index = np.round(norm * (levels - 1)).astype(int)\n",
        "    return np.clip(q_index, 0, levels-1)\n",
        "\n",
        "def quantize_image_gray(img, out_bit=8):\n",
        "    \"\"\"\n",
        "    Kuantisasi grayscale ke n-bit dengan normalisasi min-max\n",
        "    - img: array (float atau int)\n",
        "    - out_bit: jumlah bit (misal 2, 4, 8)\n",
        "\n",
        "    Hasil akhir dalam bentuk nilai intensitas (0..255).\n",
        "    \"\"\"\n",
        "    levels = 2 ** out_bit\n",
        "    img_min, img_max = img.min(), img.max()\n",
        "\n",
        "    # Normalisasi ke [0,1]\n",
        "    norm = (img - img_min) / (img_max - img_min)\n",
        "\n",
        "    # Mapping ke level [0..levels-1]\n",
        "    idx = np.round(norm * (levels - 1))\n",
        "\n",
        "    # Skala balik ke [0..255]\n",
        "    step = 255 / (levels - 1)\n",
        "    q_img = (idx * step).astype(np.uint8)\n",
        "\n",
        "    return q_img"
      ],
      "metadata": {
        "id": "LKk8m1ykftTX"
      },
      "execution_count": 205,
      "outputs": []
    },
    {
      "cell_type": "code",
      "source": [
        "# Penggunaan\n",
        "X4 = np.array([\n",
        "    [76, 124, 244, 180],\n",
        "    [60,  72,  92, 108],\n",
        "    [24,  98, 130, 126],\n",
        "    [80, 235, 112, 142]\n",
        "], dtype=np.float64)\n",
        "\n",
        "# 1) Downsampling (max pooling)\n",
        "down_max = downsampling_max(X4, 2, 2)\n",
        "\n",
        "# 2) Kuantisasi versi index level\n",
        "down_max_q2_idx = quantize_index(down_max, out_bit=2)\n",
        "down_max_q4_idx = quantize_index(down_max, out_bit=4)\n",
        "down_max_q8_idx = quantize_index(down_max, out_bit=8)\n",
        "\n",
        "# 3) Kuantisasi versi intensitas ke 2-bit, 4-bit, 8-bit\n",
        "down_max_q2 = quantize_image_gray(down_max, out_bit=2)\n",
        "down_max_q4 = quantize_image_gray(down_max, out_bit=4)\n",
        "down_max_q8 = quantize_image_gray(down_max, out_bit=8)\n",
        "\n",
        "print(\"Hasil downsampling max pooling:\\n\", down_max)\n",
        "print(\"2-bit index (0-3):\\n\", down_max_q2_idx)\n",
        "print(\"4-bit index (0-15):\\n\", down_max_q4_idx)\n",
        "print(\"8-bit index (0-255):\\n\", down_max_q8_idx)\n",
        "print(\"\\nKuantisasi 2-bit:\\n\", down_max_q2)\n",
        "print(\"\\nKuantisasi 4-bit:\\n\", down_max_q4)\n",
        "print(\"\\nKuantisasi 8-bit:\\n\", down_max_q8)"
      ],
      "metadata": {
        "colab": {
          "base_uri": "https://localhost:8080/"
        },
        "id": "WZarX2yw69w1",
        "outputId": "8bfb201e-54bd-4a80-d6a6-8a1ed7c81158"
      },
      "execution_count": 206,
      "outputs": [
        {
          "output_type": "stream",
          "name": "stdout",
          "text": [
            "Hasil downsampling max pooling:\n",
            " [[124 244]\n",
            " [235 142]]\n",
            "2-bit index (0-3):\n",
            " [[0 3]\n",
            " [3 0]]\n",
            "4-bit index (0-15):\n",
            " [[ 0 15]\n",
            " [14  2]]\n",
            "8-bit index (0-255):\n",
            " [[  0 255]\n",
            " [236  38]]\n",
            "\n",
            "Kuantisasi 2-bit:\n",
            " [[  0 255]\n",
            " [255   0]]\n",
            "\n",
            "Kuantisasi 4-bit:\n",
            " [[  0 255]\n",
            " [238  34]]\n",
            "\n",
            "Kuantisasi 8-bit:\n",
            " [[  0 255]\n",
            " [236  38]]\n"
          ]
        }
      ]
    },
    {
      "cell_type": "markdown",
      "source": [
        "**Visualisasi**"
      ],
      "metadata": {
        "id": "Hjekns4If4KH"
      }
    },
    {
      "cell_type": "code",
      "source": [
        "import matplotlib.pyplot as plt\n",
        "\n",
        "# --- Visualisasi intensitas (0–255) ---\n",
        "fig, axs = plt.subplots(1, 4, figsize=(12, 4))\n",
        "axs[0].imshow(X4, cmap=\"gray\", vmin=0, vmax=255)\n",
        "axs[0].set_title(\"Original 4x4\")\n",
        "axs[0].axis(\"off\")\n",
        "\n",
        "axs[1].imshow(down_max_q2, cmap=\"gray\", vmin=0, vmax=255)\n",
        "axs[1].set_title(\"2-bit (0-255)\")\n",
        "axs[1].axis(\"off\")\n",
        "\n",
        "axs[2].imshow(down_max_q4, cmap=\"gray\", vmin=0, vmax=255)\n",
        "axs[2].set_title(\"4-bit (0-255)\")\n",
        "axs[2].axis(\"off\")\n",
        "\n",
        "axs[3].imshow(down_max_q8, cmap=\"gray\", vmin=0, vmax=255)\n",
        "axs[3].set_title(\"8-bit (0-255)\")\n",
        "axs[3].axis(\"off\")\n",
        "\n",
        "plt.tight_layout()\n",
        "plt.show()\n",
        "\n",
        "# --- Visualisasi index level ---\n",
        "fig, axs = plt.subplots(1, 3, figsize=(9, 3))\n",
        "axs[0].imshow(down_max_q2_idx, cmap=\"gray\", vmin=0, vmax=3)\n",
        "axs[0].set_title(\"2-bit Index (0-3)\")\n",
        "axs[0].axis(\"off\")\n",
        "\n",
        "axs[1].imshow(down_max_q4_idx, cmap=\"gray\", vmin=0, vmax=15)\n",
        "axs[1].set_title(\"4-bit Index (0-15)\")\n",
        "axs[1].axis(\"off\")\n",
        "\n",
        "axs[2].imshow(down_max_q8_idx, cmap=\"gray\", vmin=0, vmax=255)\n",
        "axs[2].set_title(\"8-bit Index (0-255)\")\n",
        "axs[2].axis(\"off\")\n",
        "\n",
        "plt.tight_layout()\n",
        "plt.show()"
      ],
      "metadata": {
        "colab": {
          "base_uri": "https://localhost:8080/",
          "height": 565
        },
        "id": "Ju9T3lcaf3DA",
        "outputId": "414497cf-b930-4a18-c53e-24948a63bba6"
      },
      "execution_count": 207,
      "outputs": [
        {
          "output_type": "display_data",
          "data": {
            "text/plain": [
              "<Figure size 1200x400 with 4 Axes>"
            ],
            "image/png": "[encoded data removed]"
          },
          "metadata": {}
        },
        {
          "output_type": "display_data",
          "data": {
            "text/plain": [
              "<Figure size 900x300 with 3 Axes>"
            ],
            "image/png": "[encoded data removed]"
          },
          "metadata": {}
        }
      ]
    },
    {
      "cell_type": "markdown",
      "source": [
        "---"
      ],
      "metadata": {
        "id": "mjw7znZTodS6"
      }
    },
    {
      "cell_type": "markdown",
      "source": [
        "## Contoh Downsampling dengan Mean Pooling"
      ],
      "metadata": {
        "id": "JKmgxoN8lBTt"
      }
    },
    {
      "cell_type": "markdown",
      "source": [
        "Mean pooling memilih rata-rata dari setiap patch di atas.\n",
        "\n",
        "- Dari patch A,\n",
        "    <table>\n",
        "        <tr><td>76</td><td>124</td></tr>\n",
        "        <tr><td>60</td><td>72</td></tr>\n",
        "    </table>\n",
        "\n",
        "  diperoleh mean\n",
        "  $$\\frac{76+124+60+72}{4} = 83$$\n",
        "\n",
        "- Dari patch B,\n",
        "    <table>\n",
        "        <tr><td>244</td><td>180</td></tr>\n",
        "        <tr><td>92</td><td>108</td></tr>\n",
        "    </table>\n",
        "\n",
        "  diperoleh mean\n",
        "\n",
        "  $$\n",
        "  \\frac{244+180+92+108}{4} = 156\n",
        "  $$\n",
        "\n",
        "- Dari patch C,\n",
        "    <table>\n",
        "        <tr><td>24</td><td>98</td></tr>\n",
        "        <tr><td>80</td><td>235</td></tr>\n",
        "    </table>\n",
        "\n",
        "  diperoleh mean\n",
        "\n",
        "  $$\n",
        "  \\frac{24+98+80+235}{4} = 109,25\n",
        "  $$\n",
        "\n",
        "  yang dibulatkan menjadi 109.\n",
        "\n",
        "- Dari patch D,\n",
        "    <table>\n",
        "        <tr><td>130</td><td>126</td></tr>\n",
        "        <tr><td>112</td><td>142</td></tr>\n",
        "    </table>\n",
        "\n",
        "  diperoleh mean\n",
        "\n",
        "  $$\\frac{130+126+112+142}{4} = 127.5$$\n",
        "\n",
        "  yang dibulatkan menjadi 128.\n",
        "\n",
        "Dengan demikian, diperoleh citra hasil downsampling dengan mean pooling adalah\n",
        "<center>\n",
        "  <table>\n",
        "      <tr><td>83</td><td>156</td></tr>\n",
        "      <tr><td>109</td><td>128</td></tr>\n",
        "  </table>\n",
        "</center>"
      ],
      "metadata": {
        "id": "8ZXaIqTxlGK5"
      }
    },
    {
      "cell_type": "markdown",
      "source": [
        "## Implementasi Mean Pooling dengan Program Python"
      ],
      "metadata": {
        "id": "9huwo7KrmfB7"
      }
    },
    {
      "cell_type": "code",
      "source": [
        "import numpy as np\n",
        "\n",
        "def downsampling_mean(img, target_h, target_w):\n",
        "    '''\n",
        "    Downsampling 2D untuk array 2D (grayscale) menggunakan mean pooling\n",
        "    - img: np.ndarray shape (height, width)\n",
        "    - target_h: tinggi citra hasil downsampling\n",
        "    - target_w: lebar citra hasil downsampling\n",
        "    '''\n",
        "    H, W = img.shape\n",
        "    out = np.zeros((target_h, target_w), dtype=np.float64)\n",
        "\n",
        "    h_block = H / target_h\n",
        "    w_block = W / target_w\n",
        "\n",
        "    for i in range(target_h):\n",
        "        for j in range(target_w):\n",
        "            row_start = int(i * h_block)\n",
        "            row_end   = int((i + 1) * h_block)\n",
        "            col_start = int(j * w_block)\n",
        "            col_end   = int((j + 1) * w_block)\n",
        "            patch = img[row_start:row_end, col_start:col_end]\n",
        "\n",
        "            out[i, j] = np.round(np.mean(patch))\n",
        "\n",
        "    return out.astype(np.uint8)"
      ],
      "metadata": {
        "id": "yt87x9ixmpHP"
      },
      "execution_count": 208,
      "outputs": []
    },
    {
      "cell_type": "code",
      "source": [
        "# Contoh penggunaan dengan matriks yang diberikan di atas\n",
        "X4 = np.array([\n",
        "    [ 76, 124, 244, 180],\n",
        "    [ 60,  72,  92, 108],\n",
        "    [ 24,  98, 130, 126],\n",
        "    [ 80, 235, 112, 142]\n",
        "], dtype=np.float64)\n",
        "\n",
        "down_mean = downsampling_mean(X4, 2, 2)"
      ],
      "metadata": {
        "id": "L7EwEw4tm8n9"
      },
      "execution_count": 209,
      "outputs": []
    },
    {
      "cell_type": "code",
      "source": [
        "print(\"Hasil downsampling dengan mean pooling adalah\\n\", down_mean)"
      ],
      "metadata": {
        "colab": {
          "base_uri": "https://localhost:8080/"
        },
        "id": "MFYYwquHnGNe",
        "outputId": "e4a0b31b-22f0-4419-cf47-514b01eb4d02"
      },
      "execution_count": 210,
      "outputs": [
        {
          "output_type": "stream",
          "name": "stdout",
          "text": [
            "Hasil downsampling dengan mean pooling adalah\n",
            " [[ 83 156]\n",
            " [109 128]]\n"
          ]
        }
      ]
    },
    {
      "cell_type": "markdown",
      "source": [
        "**Visualisasi dengan matplotlib**\n",
        "\n",
        "Berikut visualisasi dari citra asli dengan citra hasil downsampling:"
      ],
      "metadata": {
        "id": "F_iBQHhfnRt1"
      }
    },
    {
      "cell_type": "code",
      "source": [
        "import matplotlib.pyplot as plt\n",
        "\n",
        "fig, axs = plt.subplots(1, 2, figsize=(8, 4))\n",
        "\n",
        "axs[0].imshow(X4, cmap=\"gray\", interpolation=\"nearest\")\n",
        "axs[0].set_title(\"Original 4x4\")\n",
        "for (i, j), val in np.ndenumerate(X):\n",
        "    axs[0].text(j, i, int(val), ha=\"center\", va=\"center\", color=\"red\")\n",
        "\n",
        "axs[1].imshow(down_mean, cmap=\"gray\", interpolation=\"nearest\")\n",
        "axs[1].set_title(\"After Downsampling (2x2)\")\n",
        "for (i, j), val in np.ndenumerate(down_mean):\n",
        "    axs[1].text(j, i, int(val), ha=\"center\", va=\"center\", color=\"red\")\n",
        "\n",
        "plt.tight_layout()\n",
        "plt.show()"
      ],
      "metadata": {
        "colab": {
          "base_uri": "https://localhost:8080/",
          "height": 407
        },
        "id": "c1tsmQJ2nTRS",
        "outputId": "7f56ae35-762b-4374-9f8e-a4551c7b3d35"
      },
      "execution_count": 211,
      "outputs": [
        {
          "output_type": "display_data",
          "data": {
            "text/plain": [
              "<Figure size 800x400 with 2 Axes>"
            ],
            "image/png": "[encoded data removed]"
          },
          "metadata": {}
        }
      ]
    },
    {
      "cell_type": "markdown",
      "source": [
        "## Downsampling dengan Mean Pooling & Quantization"
      ],
      "metadata": {
        "id": "b4HL_b3QniNq"
      }
    },
    {
      "cell_type": "markdown",
      "source": [
        "Pada program di bawah ini, ditunjukkan downsampling dengan mean pooling yang dilanjutkan dengan quantization untuk 2-bit, 4-bit, dan 8-bit."
      ],
      "metadata": {
        "id": "UfKAA8OWnmL1"
      }
    },
    {
      "cell_type": "code",
      "source": [
        "import numpy as np\n",
        "\n",
        "def downsampling_mean(img, target_h, target_w):\n",
        "    '''\n",
        "    Downsampling 2D untuk array 2D (grayscale) menggunakan mean pooling\n",
        "    - img: np.ndarray shape (height, width)\n",
        "    - target_h: tinggi citra hasil downsampling\n",
        "    - target_w: lebar citra hasil downsampling\n",
        "    '''\n",
        "    H, W = img.shape\n",
        "    out = np.zeros((target_h, target_w), dtype=np.float64)\n",
        "\n",
        "    h_block = H / target_h\n",
        "    w_block = W / target_w\n",
        "\n",
        "    for i in range(target_h):\n",
        "        for j in range(target_w):\n",
        "            row_start = int(i * h_block)\n",
        "            row_end   = int((i + 1) * h_block)\n",
        "            col_start = int(j * w_block)\n",
        "            col_end   = int((j + 1) * w_block)\n",
        "            patch = img[row_start:row_end, col_start:col_end]\n",
        "\n",
        "            out[i, j] = np.round(np.mean(patch))\n",
        "\n",
        "    return out.astype(np.uint8)\n",
        "\n",
        "def quantize_index(img, out_bit=2):\n",
        "    \"\"\"\n",
        "    Kuantisasi gambar ke indeks level (0 .. 2^out_bit - 1)\n",
        "    \"\"\"\n",
        "    levels = 2 ** out_bit\n",
        "    img_min, img_max = img.min(), img.max()\n",
        "    # Normalisasi\n",
        "    norm = (img - img_min) / (img_max - img_min)\n",
        "\n",
        "    q_index = np.round(norm * (levels - 1)).astype(int)\n",
        "    return np.clip(q_index, 0, levels-1)\n",
        "\n",
        "def quantize_image_gray(img, out_bit=8):\n",
        "    \"\"\"\n",
        "    Kuantisasi grayscale ke n-bit dengan normalisasi min-max\n",
        "    - img: array (float atau int)\n",
        "    - out_bit: jumlah bit (misal 2, 4, 8)\n",
        "\n",
        "    Hasil akhir dalam bentuk nilai intensitas (0..255).\n",
        "    \"\"\"\n",
        "    levels = 2 ** out_bit\n",
        "    img_min, img_max = img.min(), img.max()\n",
        "\n",
        "    # Normalisasi ke [0,1]\n",
        "    norm = (img - img_min) / (img_max - img_min)\n",
        "\n",
        "    # Mapping ke level [0..levels-1]\n",
        "    idx = np.round(norm * (levels - 1))\n",
        "\n",
        "    # Skala balik ke [0..255]\n",
        "    step = 255 / (levels - 1)\n",
        "    q_img = (idx * step).astype(np.uint8)\n",
        "\n",
        "    return q_img"
      ],
      "metadata": {
        "id": "Lce7ROhqnl3U"
      },
      "execution_count": 212,
      "outputs": []
    },
    {
      "cell_type": "code",
      "source": [
        "# Penggunaan\n",
        "X4 = np.array([\n",
        "    [76, 124, 244, 180],\n",
        "    [60,  72,  92, 108],\n",
        "    [24,  98, 130, 126],\n",
        "    [80, 235, 112, 142]\n",
        "], dtype=np.float64)\n",
        "\n",
        "# 1) Downsampling (mean pooling)\n",
        "down_mean = downsampling_mean(X4, 2, 2)\n",
        "\n",
        "# 2) Kuantisasi versi index level\n",
        "down_mean_q2_idx = quantize_index(down_mean, out_bit=2)\n",
        "down_mean_q4_idx = quantize_index(down_mean, out_bit=4)\n",
        "down_mean_q8_idx = quantize_index(down_mean, out_bit=8)\n",
        "\n",
        "# 3) Kuantisasi versi intensitas ke 2-bit, 4-bit, 8-bit\n",
        "down_mean_q2 = quantize_image_gray(down_mean, out_bit=2)\n",
        "down_mean_q4 = quantize_image_gray(down_mean, out_bit=4)\n",
        "down_mean_q8 = quantize_image_gray(down_mean, out_bit=8)\n",
        "\n",
        "print(\"Hasil downsampling mean pooling:\\n\", down_mean)\n",
        "print(\"2-bit index (0-3):\\n\", down_mean_q2_idx)\n",
        "print(\"4-bit index (0-15):\\n\", down_mean_q4_idx)\n",
        "print(\"8-bit index (0-255):\\n\", down_mean_q8_idx)\n",
        "print(\"\\nKuantisasi 2-bit:\\n\", down_mean_q2)\n",
        "print(\"\\nKuantisasi 4-bit:\\n\", down_mean_q4)\n",
        "print(\"\\nKuantisasi 8-bit:\\n\", down_mean_q8)"
      ],
      "metadata": {
        "colab": {
          "base_uri": "https://localhost:8080/"
        },
        "id": "BEGPIT1-BvxO",
        "outputId": "504cad61-edc8-488b-f708-acf8f2c6100c"
      },
      "execution_count": 213,
      "outputs": [
        {
          "output_type": "stream",
          "name": "stdout",
          "text": [
            "Hasil downsampling mean pooling:\n",
            " [[ 83 156]\n",
            " [109 128]]\n",
            "2-bit index (0-3):\n",
            " [[0 3]\n",
            " [1 2]]\n",
            "4-bit index (0-15):\n",
            " [[ 0 15]\n",
            " [ 5  9]]\n",
            "8-bit index (0-255):\n",
            " [[  0 255]\n",
            " [ 91 157]]\n",
            "\n",
            "Kuantisasi 2-bit:\n",
            " [[  0 255]\n",
            " [ 85 170]]\n",
            "\n",
            "Kuantisasi 4-bit:\n",
            " [[  0 255]\n",
            " [ 85 153]]\n",
            "\n",
            "Kuantisasi 8-bit:\n",
            " [[  0 255]\n",
            " [ 91 157]]\n"
          ]
        }
      ]
    },
    {
      "cell_type": "markdown",
      "source": [
        "**Visualisasi**"
      ],
      "metadata": {
        "id": "c9-GUh7XoBMV"
      }
    },
    {
      "cell_type": "code",
      "source": [
        "import matplotlib.pyplot as plt\n",
        "\n",
        "# --- Visualisasi intensitas (0–255) ---\n",
        "fig, axs = plt.subplots(1, 4, figsize=(12, 4))\n",
        "axs[0].imshow(X4, cmap=\"gray\", vmin=0, vmax=255)\n",
        "axs[0].set_title(\"Original 4x4\")\n",
        "axs[0].axis(\"off\")\n",
        "\n",
        "axs[1].imshow(down_mean_q2, cmap=\"gray\", vmin=0, vmax=255)\n",
        "axs[1].set_title(\"2-bit (0-255)\")\n",
        "axs[1].axis(\"off\")\n",
        "\n",
        "axs[2].imshow(down_mean_q4, cmap=\"gray\", vmin=0, vmax=255)\n",
        "axs[2].set_title(\"4-bit (0-255)\")\n",
        "axs[2].axis(\"off\")\n",
        "\n",
        "axs[3].imshow(down_mean_q8, cmap=\"gray\", vmin=0, vmax=255)\n",
        "axs[3].set_title(\"8-bit (0-255)\")\n",
        "axs[3].axis(\"off\")\n",
        "\n",
        "plt.tight_layout()\n",
        "plt.show()\n",
        "\n",
        "# --- Visualisasi index level ---\n",
        "fig, axs = plt.subplots(1, 3, figsize=(9, 3))\n",
        "axs[0].imshow(down_mean_q2_idx, cmap=\"gray\", vmin=0, vmax=3)\n",
        "axs[0].set_title(\"2-bit Index (0-3)\")\n",
        "axs[0].axis(\"off\")\n",
        "\n",
        "axs[1].imshow(down_mean_q4_idx, cmap=\"gray\", vmin=0, vmax=15)\n",
        "axs[1].set_title(\"4-bit Index (0-15)\")\n",
        "axs[1].axis(\"off\")\n",
        "\n",
        "axs[2].imshow(down_mean_q8_idx, cmap=\"gray\", vmin=0, vmax=255)\n",
        "axs[2].set_title(\"8-bit Index (0-255)\")\n",
        "axs[2].axis(\"off\")\n",
        "\n",
        "plt.tight_layout()\n",
        "plt.show()"
      ],
      "metadata": {
        "colab": {
          "base_uri": "https://localhost:8080/",
          "height": 565
        },
        "id": "n66bJlECoDD9",
        "outputId": "01ad8168-b325-42a8-c5e2-b8c726884296"
      },
      "execution_count": 214,
      "outputs": [
        {
          "output_type": "display_data",
          "data": {
            "text/plain": [
              "<Figure size 1200x400 with 4 Axes>"
            ],
            "image/png": "[encoded data removed]"
          },
          "metadata": {}
        },
        {
          "output_type": "display_data",
          "data": {
            "text/plain": [
              "<Figure size 900x300 with 3 Axes>"
            ],
            "image/png": "[encoded data removed]"
          },
          "metadata": {}
        }
      ]
    },
    {
      "cell_type": "markdown",
      "source": [
        "---"
      ],
      "metadata": {
        "id": "LTod5zGHogny"
      }
    },
    {
      "cell_type": "markdown",
      "source": [
        "## Contoh Downsampling dengan Median Pooling"
      ],
      "metadata": {
        "id": "OK5LlI9UoUTi"
      }
    },
    {
      "cell_type": "markdown",
      "source": [
        "Median pooling menggunakan median dari setiap patch di atas.\n",
        "\n",
        "- Dari patch A,\n",
        "    <table>\n",
        "        <tr><td>76</td><td>124</td></tr>\n",
        "        <tr><td>60</td><td>72</td></tr>\n",
        "    </table>\n",
        "\n",
        "    diperoleh median 74.\n",
        "\n",
        "- Dari patch B,\n",
        "    <table>\n",
        "        <tr><td>244</td><td>180</td></tr>\n",
        "        <tr><td>92</td><td>108</td></tr>\n",
        "    </table>\n",
        "\n",
        "    diperoleh median 144.\n",
        "\n",
        "- Dari patch C,\n",
        "    <table>\n",
        "        <tr><td>24</td><td>98</td></tr>\n",
        "        <tr><td>80</td><td>235</td></tr>\n",
        "    </table>\n",
        "\n",
        "    diperoleh median 89.\n",
        "\n",
        "- Dari patch D,\n",
        "    <table>\n",
        "        <tr><td>130</td><td>126</td></tr>\n",
        "        <tr><td>112</td><td>142</td></tr>\n",
        "    </table>\n",
        "\n",
        "    diperoleh median 128.\n",
        "  \n",
        "Dengan demikian, diperoleh citra hasil downsampling dengan median pooling adalah\n",
        "<center>\n",
        "<table>\n",
        "    <tr><td>74</td><td>144</td></tr>\n",
        "    <tr><td>89</td><td>128</td></tr>\n",
        "</table>\n",
        "</center>"
      ],
      "metadata": {
        "id": "ztwTy_anohe2"
      }
    },
    {
      "cell_type": "markdown",
      "source": [
        "## Implementasi Median Pooling dengan Program Python"
      ],
      "metadata": {
        "id": "BPWa26lSo5gN"
      }
    },
    {
      "cell_type": "code",
      "source": [
        "import numpy as np\n",
        "\n",
        "def downsampling_median(img, target_h, target_w):\n",
        "    '''\n",
        "    Downsampling 2D untuk array 2D (grayscale) menggunakan median pooling\n",
        "    - img: np.ndarray shape (height, width)\n",
        "    - target_h: tinggi citra hasil downsampling\n",
        "    - target_w: lebar citra hasil downsampling\n",
        "    '''\n",
        "    H, W = img.shape\n",
        "    out = np.zeros((target_h, target_w), dtype=np.float64)\n",
        "\n",
        "    h_block = H / target_h\n",
        "    w_block = W / target_w\n",
        "\n",
        "    for i in range(target_h):\n",
        "        for j in range(target_w):\n",
        "            row_start = int(i * h_block)\n",
        "            row_end   = int((i + 1) * h_block)\n",
        "            col_start = int(j * w_block)\n",
        "            col_end   = int((j + 1) * w_block)\n",
        "            patch = img[row_start:row_end, col_start:col_end]\n",
        "\n",
        "            out[i, j] = np.round(np.median(patch))\n",
        "\n",
        "    return out.astype(np.uint8)"
      ],
      "metadata": {
        "id": "h5Ru6ZgQo71s"
      },
      "execution_count": 215,
      "outputs": []
    },
    {
      "cell_type": "code",
      "source": [
        "# Contoh penggunaan dengan matriks yang diberikan di atas\n",
        "X4 = np.array([\n",
        "    [ 76, 124, 244, 180],\n",
        "    [ 60,  72,  92, 108],\n",
        "    [ 24,  98, 130, 126],\n",
        "    [ 80, 235, 112, 142]\n",
        "], dtype=np.float64)\n",
        "\n",
        "down_median = downsampling_median(X4, 2, 2)"
      ],
      "metadata": {
        "id": "QvYBA44kpAy_"
      },
      "execution_count": 216,
      "outputs": []
    },
    {
      "cell_type": "code",
      "source": [
        "print(\"Hasil downsampling dengan median pooling adalah\\n\", down_median)"
      ],
      "metadata": {
        "colab": {
          "base_uri": "https://localhost:8080/"
        },
        "id": "mIMSqmaEpEZG",
        "outputId": "af57047b-8f5d-46c2-c3f9-7da855de3bb7"
      },
      "execution_count": 217,
      "outputs": [
        {
          "output_type": "stream",
          "name": "stdout",
          "text": [
            "Hasil downsampling dengan median pooling adalah\n",
            " [[ 74 144]\n",
            " [ 89 128]]\n"
          ]
        }
      ]
    },
    {
      "cell_type": "markdown",
      "source": [
        "**Visualisasi dengan matplotlib**\n",
        "\n",
        "Berikut visualisasi dari citra asli dengan citra hasil downsampling:"
      ],
      "metadata": {
        "id": "rjHEEguSpLb0"
      }
    },
    {
      "cell_type": "code",
      "source": [
        "import matplotlib.pyplot as plt\n",
        "\n",
        "fig, axs = plt.subplots(1, 2, figsize=(8, 4))\n",
        "\n",
        "axs[0].imshow(X4, cmap=\"gray\", interpolation=\"nearest\")\n",
        "axs[0].set_title(\"Original 4x4\")\n",
        "for (i, j), val in np.ndenumerate(X):\n",
        "    axs[0].text(j, i, int(val), ha=\"center\", va=\"center\", color=\"red\")\n",
        "\n",
        "axs[1].imshow(down_median, cmap=\"gray\", interpolation=\"nearest\")\n",
        "axs[1].set_title(\"After Downsampling (2x2)\")\n",
        "for (i, j), val in np.ndenumerate(down_median):\n",
        "    axs[1].text(j, i, int(val), ha=\"center\", va=\"center\", color=\"red\")\n",
        "\n",
        "plt.tight_layout()\n",
        "plt.show()"
      ],
      "metadata": {
        "colab": {
          "base_uri": "https://localhost:8080/",
          "height": 407
        },
        "id": "-QtZOEhypN7S",
        "outputId": "f446717d-a8ce-43dc-95aa-1e8739bfd155"
      },
      "execution_count": 218,
      "outputs": [
        {
          "output_type": "display_data",
          "data": {
            "text/plain": [
              "<Figure size 800x400 with 2 Axes>"
            ],
            "image/png": "[encoded data removed]"
          },
          "metadata": {}
        }
      ]
    },
    {
      "cell_type": "markdown",
      "source": [
        "## Downsampling dengan Median Pooling & Quantization"
      ],
      "metadata": {
        "id": "vafIPK-JpZZp"
      }
    },
    {
      "cell_type": "markdown",
      "source": [
        "Pada program di bawah ini, ditunjukkan downsampling dengan median pooling yang dilanjutkan dengan quantization untuk 2-bit, 4-bit, dan 8-bit."
      ],
      "metadata": {
        "id": "T3U9b4jtpeog"
      }
    },
    {
      "cell_type": "code",
      "source": [
        "import numpy as np\n",
        "\n",
        "def downsampling_median(img, target_h, target_w):\n",
        "    '''\n",
        "    Downsampling 2D untuk array 2D (grayscale) menggunakan median pooling\n",
        "    - img: np.ndarray shape (height, width)\n",
        "    - target_h: tinggi citra hasil downsampling\n",
        "    - target_w: lebar citra hasil downsampling\n",
        "    '''\n",
        "    H, W = img.shape\n",
        "    out = np.zeros((target_h, target_w), dtype=np.float64)\n",
        "\n",
        "    h_block = H / target_h\n",
        "    w_block = W / target_w\n",
        "\n",
        "    for i in range(target_h):\n",
        "        for j in range(target_w):\n",
        "            row_start = int(i * h_block)\n",
        "            row_end   = int((i + 1) * h_block)\n",
        "            col_start = int(j * w_block)\n",
        "            col_end   = int((j + 1) * w_block)\n",
        "            patch = img[row_start:row_end, col_start:col_end]\n",
        "\n",
        "            out[i, j] = np.round(np.median(patch))\n",
        "\n",
        "    return out.astype(np.uint8)\n",
        "\n",
        "def quantize_index(img, out_bit=2):\n",
        "    \"\"\"\n",
        "    Kuantisasi gambar ke indeks level (0 .. 2^out_bit - 1)\n",
        "    \"\"\"\n",
        "    levels = 2 ** out_bit\n",
        "    img_min, img_max = img.min(), img.max()\n",
        "    # Normalisasi\n",
        "    norm = (img - img_min) / (img_max - img_min)\n",
        "\n",
        "    q_index = np.round(norm * (levels - 1)).astype(int)\n",
        "    return np.clip(q_index, 0, levels-1)\n",
        "\n",
        "def quantize_image_gray(img, out_bit=8):\n",
        "    \"\"\"\n",
        "    Kuantisasi grayscale ke n-bit dengan normalisasi min-max\n",
        "    - img: array (float atau int)\n",
        "    - out_bit: jumlah bit (misal 2, 4, 8)\n",
        "\n",
        "    Hasil akhir dalam bentuk nilai intensitas (0..255).\n",
        "    \"\"\"\n",
        "    levels = 2 ** out_bit\n",
        "    img_min, img_max = img.min(), img.max()\n",
        "\n",
        "    # Normalisasi ke [0,1]\n",
        "    norm = (img - img_min) / (img_max - img_min)\n",
        "\n",
        "    # Mapping ke level [0..levels-1]\n",
        "    idx = np.round(norm * (levels - 1))\n",
        "\n",
        "    # Skala balik ke [0..255]\n",
        "    step = 255 / (levels - 1)\n",
        "    q_img = (idx * step).astype(np.uint8)\n",
        "\n",
        "    return q_img"
      ],
      "metadata": {
        "id": "ZkcHUeivpcIB"
      },
      "execution_count": 219,
      "outputs": []
    },
    {
      "cell_type": "code",
      "source": [
        "# Penggunaan\n",
        "X4 = np.array([\n",
        "    [76, 124, 244, 180],\n",
        "    [60,  72,  92, 108],\n",
        "    [24,  98, 130, 126],\n",
        "    [80, 235, 112, 142]\n",
        "], dtype=np.float64)\n",
        "\n",
        "# 1) Downsampling (mean pooling)\n",
        "down_median = downsampling_median(X4, 2, 2)\n",
        "\n",
        "# 2) Kuantisasi versi index level\n",
        "down_median_q2_idx = quantize_index(down_median, out_bit=2)\n",
        "down_median_q4_idx = quantize_index(down_median, out_bit=4)\n",
        "down_median_q8_idx = quantize_index(down_median, out_bit=8)\n",
        "\n",
        "# 3) Kuantisasi versi intensitas ke 2-bit, 4-bit, 8-bit\n",
        "down_median_q2 = quantize_image_gray(down_median, out_bit=2)\n",
        "down_median_q4 = quantize_image_gray(down_median, out_bit=4)\n",
        "down_median_q8 = quantize_image_gray(down_median, out_bit=8)\n",
        "\n",
        "print(\"Hasil downsampling mean pooling:\\n\", down_median)\n",
        "print(\"2-bit index (0-3):\\n\", down_median_q2_idx)\n",
        "print(\"4-bit index (0-15):\\n\", down_median_q4_idx)\n",
        "print(\"8-bit index (0-255):\\n\", down_median_q8_idx)\n",
        "print(\"\\nKuantisasi 2-bit:\\n\", down_median_q2)\n",
        "print(\"\\nKuantisasi 4-bit:\\n\", down_median_q4)\n",
        "print(\"\\nKuantisasi 8-bit:\\n\", down_median_q8)"
      ],
      "metadata": {
        "colab": {
          "base_uri": "https://localhost:8080/"
        },
        "id": "npRtN99zDSC-",
        "outputId": "abe2e4d0-ef5c-4cde-e8f1-f720bf678e38"
      },
      "execution_count": 220,
      "outputs": [
        {
          "output_type": "stream",
          "name": "stdout",
          "text": [
            "Hasil downsampling mean pooling:\n",
            " [[ 74 144]\n",
            " [ 89 128]]\n",
            "2-bit index (0-3):\n",
            " [[0 3]\n",
            " [1 2]]\n",
            "4-bit index (0-15):\n",
            " [[ 0 15]\n",
            " [ 3 12]]\n",
            "8-bit index (0-255):\n",
            " [[  0 255]\n",
            " [ 55 197]]\n",
            "\n",
            "Kuantisasi 2-bit:\n",
            " [[  0 255]\n",
            " [ 85 170]]\n",
            "\n",
            "Kuantisasi 4-bit:\n",
            " [[  0 255]\n",
            " [ 51 204]]\n",
            "\n",
            "Kuantisasi 8-bit:\n",
            " [[  0 255]\n",
            " [ 55 197]]\n"
          ]
        }
      ]
    },
    {
      "cell_type": "markdown",
      "source": [
        "**Visualisasi**"
      ],
      "metadata": {
        "id": "ewBmGKVRpvgY"
      }
    },
    {
      "cell_type": "code",
      "source": [
        "import matplotlib.pyplot as plt\n",
        "\n",
        "# --- Visualisasi intensitas (0–255) ---\n",
        "fig, axs = plt.subplots(1, 4, figsize=(12, 4))\n",
        "axs[0].imshow(X4, cmap=\"gray\", vmin=0, vmax=255)\n",
        "axs[0].set_title(\"Original 4x4\")\n",
        "axs[0].axis(\"off\")\n",
        "\n",
        "axs[1].imshow(down_median_q2, cmap=\"gray\", vmin=0, vmax=255)\n",
        "axs[1].set_title(\"2-bit (0-255)\")\n",
        "axs[1].axis(\"off\")\n",
        "\n",
        "axs[2].imshow(down_median_q4, cmap=\"gray\", vmin=0, vmax=255)\n",
        "axs[2].set_title(\"4-bit (0-255)\")\n",
        "axs[2].axis(\"off\")\n",
        "\n",
        "axs[3].imshow(down_median_q8, cmap=\"gray\", vmin=0, vmax=255)\n",
        "axs[3].set_title(\"8-bit (0-255)\")\n",
        "axs[3].axis(\"off\")\n",
        "\n",
        "plt.tight_layout()\n",
        "plt.show()\n",
        "\n",
        "# --- Visualisasi index level ---\n",
        "fig, axs = plt.subplots(1, 3, figsize=(9, 3))\n",
        "axs[0].imshow(down_median_q2_idx, cmap=\"gray\", vmin=0, vmax=3)\n",
        "axs[0].set_title(\"2-bit Index (0-3)\")\n",
        "axs[0].axis(\"off\")\n",
        "\n",
        "axs[1].imshow(down_median_q4_idx, cmap=\"gray\", vmin=0, vmax=15)\n",
        "axs[1].set_title(\"4-bit Index (0-15)\")\n",
        "axs[1].axis(\"off\")\n",
        "\n",
        "axs[2].imshow(down_median_q8_idx, cmap=\"gray\", vmin=0, vmax=255)\n",
        "axs[2].set_title(\"8-bit Index (0-255)\")\n",
        "axs[2].axis(\"off\")\n",
        "\n",
        "plt.tight_layout()\n",
        "plt.show()"
      ],
      "metadata": {
        "colab": {
          "base_uri": "https://localhost:8080/",
          "height": 565
        },
        "id": "ITMPaD5QpxD-",
        "outputId": "c3a17ffe-86a1-40eb-8aea-b3163fb9c0b4"
      },
      "execution_count": 221,
      "outputs": [
        {
          "output_type": "display_data",
          "data": {
            "text/plain": [
              "<Figure size 1200x400 with 4 Axes>"
            ],
            "image/png": "[encoded data removed]"
          },
          "metadata": {}
        },
        {
          "output_type": "display_data",
          "data": {
            "text/plain": [
              "<Figure size 900x300 with 3 Axes>"
            ],
            "image/png": "[encoded data removed]"
          },
          "metadata": {}
        }
      ]
    },
    {
      "cell_type": "markdown",
      "source": [
        "---"
      ],
      "metadata": {
        "id": "POXjEVr1Dzaf"
      }
    },
    {
      "cell_type": "markdown",
      "source": [
        "# Upsampling\n"
      ],
      "metadata": {
        "id": "b3SCAhXKSdQN"
      }
    },
    {
      "cell_type": "markdown",
      "source": [
        "Upsampling adalah proses memperbesar ukuran citra.\n",
        "Ada beberapa metode yang digunakan: <sup>[1]</sup>\n",
        "- Nearest Neighbor: setiap pixel diperbesar dengan cara menyalin nilainya, lalu mengisi setiap lokasi baru dengan intensitas dari tetangga terdekatnya di citra asli.\n",
        "- Bilinear Interpolation: menggunakan 4 tetangga terdekat untuk mengestimasi intensitas di suatu lokasi baru tertentu.\n",
        "\n",
        "  Untuk metode ini akan digunakan formula mapping<sup>[1]</sup> berikut:\n",
        "  $$\n",
        "  g_x=j\\cdot \\frac{W_{\\text{in}}-1}{W_{\\text{out}}-1}, \\quad g_x=j\\cdot \\frac{H_{\\text{in}}-1}{H_{\\text{out}}-1}\n",
        "  $$\n",
        "\n",
        "- Bicubic interpolation: menggunakan 16 tetangga terdekat untuk mengestimasi intensitas dari suatu lokasi pixel baru tertentu.\n",
        "\n",
        "  Untuk bicubic interpolation, akan digunakan implementasi pemakaian cubic kernel<sup>[2]</sup>:\n",
        "  $$\n",
        "  h(x) = \\begin{cases}\n",
        "  (a+2)|x|^3 - (a+3)|x|^2 + 1, & |x| < 1\\\\\n",
        "  a|x|^3 - 5a|x|^2 + 8a|x| - 4a, & 1\\leq |x| < 2\\\\\n",
        "  0, & |x| \\geq 2\n",
        "  \\end{cases}\n",
        "  $$\n",
        "  dengan $a=-0.5$ (Catmull-Rom spline)"
      ],
      "metadata": {
        "id": "D3BIZdStp8ij"
      }
    },
    {
      "cell_type": "markdown",
      "source": [
        "Setelah ukuran citra diperbesar, nilai piksel akan dikuantisasi ke 2-bit (4 level), 4-bit (16 level) dan 8-bit (256 level)."
      ],
      "metadata": {
        "id": "IaFD5-ZEstnC"
      }
    },
    {
      "cell_type": "markdown",
      "source": [
        "## Nearest Neighbor Interpolation & Quantization"
      ],
      "metadata": {
        "id": "dxfUM82FsvmQ"
      }
    },
    {
      "cell_type": "code",
      "source": [
        "import numpy as np\n",
        "\n",
        "def upsampling_nearest(img, new_h, new_w):\n",
        "    \"\"\"\n",
        "    Upsampling dengan nearest neighbor\n",
        "    - img: 2D array (H, W)\n",
        "    - new_h: tinggi citra target\n",
        "    - new_w: lebar citra target\n",
        "    \"\"\"\n",
        "    h, w = img.shape\n",
        "    out = np.zeros((new_h, new_w), dtype=img.dtype)\n",
        "\n",
        "    for i in range(new_h):\n",
        "        for j in range(new_w):\n",
        "            # mapping koordinat output -> input\n",
        "            y = round(i * (h - 1) / (new_h - 1))\n",
        "            x = round(j * (w - 1) / (new_w - 1))\n",
        "            out[i, j] = img[y, x]\n",
        "    return out\n",
        "\n",
        "def quantize_index(img, out_bit=2):\n",
        "    \"\"\"\n",
        "    Kuantisasi gambar ke indeks level (0 .. 2^out_bit - 1)\n",
        "    \"\"\"\n",
        "    levels = 2 ** out_bit\n",
        "    img_min, img_max = img.min(), img.max()\n",
        "    # Normalisasi\n",
        "    norm = (img - img_min) / (img_max - img_min)\n",
        "\n",
        "    q_index = np.round(norm * (levels - 1)).astype(int)\n",
        "    return np.clip(q_index, 0, levels-1)\n",
        "\n",
        "def quantize_image_gray(img, out_bit=8):\n",
        "    \"\"\"\n",
        "    Kuantisasi grayscale ke n-bit dengan normalisasi min-max\n",
        "    - img: array (float atau int)\n",
        "    - out_bit: jumlah bit (misal 2, 4, 8)\n",
        "\n",
        "    Hasil akhir dalam bentuk nilai intensitas (0..255).\n",
        "    \"\"\"\n",
        "    levels = 2 ** out_bit\n",
        "    img_min, img_max = img.min(), img.max()\n",
        "\n",
        "    # Normalisasi ke [0,1]\n",
        "    norm = (img - img_min) / (img_max - img_min)\n",
        "\n",
        "    # Mapping ke level [0..levels-1]\n",
        "    idx = np.round(norm * (levels - 1))\n",
        "\n",
        "    # Skala balik ke [0..255]\n",
        "    step = 255 / (levels - 1)\n",
        "    q_img = (idx * step).astype(np.uint8)\n",
        "\n",
        "    return q_img"
      ],
      "metadata": {
        "id": "QcJuBiYDSfcK"
      },
      "execution_count": 222,
      "outputs": []
    },
    {
      "cell_type": "markdown",
      "source": [
        "Upsampling $⟶$ Quantization"
      ],
      "metadata": {
        "id": "JRPgq1JhG7zc"
      }
    },
    {
      "cell_type": "code",
      "source": [
        "# Penggunaan\n",
        "X4 = np.array([\n",
        "    [76, 124, 244, 180],\n",
        "    [60,  72,  92, 108],\n",
        "    [24,  98, 130, 126],\n",
        "    [80, 235, 112, 142]\n",
        "], dtype=np.float64)\n",
        "\n",
        "# 1) Upsampling dengan nearest neighbor (4x4 -> 8x8)\n",
        "up_nearest = upsampling_nearest(X4, 8, 8)\n",
        "\n",
        "# 2) Kuantisasi versi index level\n",
        "up_nearest_q2_idx = quantize_index(up_nearest, out_bit=2)\n",
        "up_nearest_q4_idx = quantize_index(up_nearest, out_bit=4)\n",
        "up_nearest_q8_idx = quantize_index(up_nearest, out_bit=8)\n",
        "\n",
        "# 3) Kuantisasi versi intensitas ke 2-bit, 4-bit, 8-bit\n",
        "up_nearest_q2 = quantize_image_gray(up_nearest, out_bit=2)\n",
        "up_nearest_q4 = quantize_image_gray(up_nearest, out_bit=4)\n",
        "up_nearest_q8 = quantize_image_gray(up_nearest, out_bit=8)\n",
        "\n",
        "print(\"Hasil upsampling nearest neighbor:\\n\", up_nearest)\n",
        "print(\"\\n2-bit index (0-3):\\n\", up_nearest_q2_idx)\n",
        "print(\"\\n4-bit index (0-15):\\n\", up_nearest_q4_idx)\n",
        "print(\"\\n8-bit index (0-255):\\n\", up_nearest_q8_idx)\n",
        "print(\"\\nKuantisasi 2-bit:\\n\", up_nearest_q2)\n",
        "print(\"\\nKuantisasi 4-bit:\\n\", up_nearest_q4)\n",
        "print(\"\\nKuantisasi 8-bit:\\n\", up_nearest_q8)"
      ],
      "metadata": {
        "colab": {
          "base_uri": "https://localhost:8080/"
        },
        "id": "1fkZMuZPHBbu",
        "outputId": "3c328d9a-0279-4b50-ddae-6bcc1da5c762"
      },
      "execution_count": 223,
      "outputs": [
        {
          "output_type": "stream",
          "name": "stdout",
          "text": [
            "Hasil upsampling nearest neighbor:\n",
            " [[ 76.  76. 124. 124. 244. 244. 180. 180.]\n",
            " [ 76.  76. 124. 124. 244. 244. 180. 180.]\n",
            " [ 60.  60.  72.  72.  92.  92. 108. 108.]\n",
            " [ 60.  60.  72.  72.  92.  92. 108. 108.]\n",
            " [ 24.  24.  98.  98. 130. 130. 126. 126.]\n",
            " [ 24.  24.  98.  98. 130. 130. 126. 126.]\n",
            " [ 80.  80. 235. 235. 112. 112. 142. 142.]\n",
            " [ 80.  80. 235. 235. 112. 112. 142. 142.]]\n",
            "\n",
            "2-bit index (0-3):\n",
            " [[1 1 1 1 3 3 2 2]\n",
            " [1 1 1 1 3 3 2 2]\n",
            " [0 0 1 1 1 1 1 1]\n",
            " [0 0 1 1 1 1 1 1]\n",
            " [0 0 1 1 1 1 1 1]\n",
            " [0 0 1 1 1 1 1 1]\n",
            " [1 1 3 3 1 1 2 2]\n",
            " [1 1 3 3 1 1 2 2]]\n",
            "\n",
            "4-bit index (0-15):\n",
            " [[ 4  4  7  7 15 15 11 11]\n",
            " [ 4  4  7  7 15 15 11 11]\n",
            " [ 2  2  3  3  5  5  6  6]\n",
            " [ 2  2  3  3  5  5  6  6]\n",
            " [ 0  0  5  5  7  7  7  7]\n",
            " [ 0  0  5  5  7  7  7  7]\n",
            " [ 4  4 14 14  6  6  8  8]\n",
            " [ 4  4 14 14  6  6  8  8]]\n",
            "\n",
            "8-bit index (0-255):\n",
            " [[ 60  60 116 116 255 255 181 181]\n",
            " [ 60  60 116 116 255 255 181 181]\n",
            " [ 42  42  56  56  79  79  97  97]\n",
            " [ 42  42  56  56  79  79  97  97]\n",
            " [  0   0  86  86 123 123 118 118]\n",
            " [  0   0  86  86 123 123 118 118]\n",
            " [ 65  65 245 245 102 102 137 137]\n",
            " [ 65  65 245 245 102 102 137 137]]\n",
            "\n",
            "Kuantisasi 2-bit:\n",
            " [[ 85  85  85  85 255 255 170 170]\n",
            " [ 85  85  85  85 255 255 170 170]\n",
            " [  0   0  85  85  85  85  85  85]\n",
            " [  0   0  85  85  85  85  85  85]\n",
            " [  0   0  85  85  85  85  85  85]\n",
            " [  0   0  85  85  85  85  85  85]\n",
            " [ 85  85 255 255  85  85 170 170]\n",
            " [ 85  85 255 255  85  85 170 170]]\n",
            "\n",
            "Kuantisasi 4-bit:\n",
            " [[ 68  68 119 119 255 255 187 187]\n",
            " [ 68  68 119 119 255 255 187 187]\n",
            " [ 34  34  51  51  85  85 102 102]\n",
            " [ 34  34  51  51  85  85 102 102]\n",
            " [  0   0  85  85 119 119 119 119]\n",
            " [  0   0  85  85 119 119 119 119]\n",
            " [ 68  68 238 238 102 102 136 136]\n",
            " [ 68  68 238 238 102 102 136 136]]\n",
            "\n",
            "Kuantisasi 8-bit:\n",
            " [[ 60  60 116 116 255 255 181 181]\n",
            " [ 60  60 116 116 255 255 181 181]\n",
            " [ 42  42  56  56  79  79  97  97]\n",
            " [ 42  42  56  56  79  79  97  97]\n",
            " [  0   0  86  86 123 123 118 118]\n",
            " [  0   0  86  86 123 123 118 118]\n",
            " [ 65  65 245 245 102 102 137 137]\n",
            " [ 65  65 245 245 102 102 137 137]]\n"
          ]
        }
      ]
    },
    {
      "cell_type": "markdown",
      "source": [
        "**Visualisasi** Upsampling $⟶$ Quantization"
      ],
      "metadata": {
        "id": "Q6_iMucjtBee"
      }
    },
    {
      "cell_type": "code",
      "source": [
        "import matplotlib.pyplot as plt\n",
        "\n",
        "# --- Visualisasi intensitas (0–255) ---\n",
        "fig, axs = plt.subplots(1, 4, figsize=(12, 4))\n",
        "axs[0].imshow(X4, cmap=\"gray\", vmin=0, vmax=255)\n",
        "axs[0].set_title(\"Original 4x4\")\n",
        "axs[0].axis(\"off\")\n",
        "\n",
        "axs[1].imshow(up_nearest_q2, cmap=\"gray\", vmin=0, vmax=255)\n",
        "axs[1].set_title(\"2-bit (0-255)\")\n",
        "axs[1].axis(\"off\")\n",
        "\n",
        "axs[2].imshow(up_nearest_q4, cmap=\"gray\", vmin=0, vmax=255)\n",
        "axs[2].set_title(\"4-bit (0-255)\")\n",
        "axs[2].axis(\"off\")\n",
        "\n",
        "axs[3].imshow(up_nearest_q8, cmap=\"gray\", vmin=0, vmax=255)\n",
        "axs[3].set_title(\"8-bit (0-255)\")\n",
        "axs[3].axis(\"off\")\n",
        "\n",
        "plt.tight_layout()\n",
        "plt.show()\n",
        "\n",
        "# --- Visualisasi index level ---\n",
        "fig, axs = plt.subplots(1, 3, figsize=(9, 3))\n",
        "axs[0].imshow(up_nearest_q2_idx, cmap=\"gray\", vmin=0, vmax=3)\n",
        "axs[0].set_title(\"2-bit Index (0-3)\")\n",
        "axs[0].axis(\"off\")\n",
        "\n",
        "axs[1].imshow(up_nearest_q4_idx, cmap=\"gray\", vmin=0, vmax=15)\n",
        "axs[1].set_title(\"4-bit Index (0-15)\")\n",
        "axs[1].axis(\"off\")\n",
        "\n",
        "axs[2].imshow(up_nearest_q8_idx, cmap=\"gray\", vmin=0, vmax=255)\n",
        "axs[2].set_title(\"8-bit Index (0-255)\")\n",
        "axs[2].axis(\"off\")\n",
        "\n",
        "plt.tight_layout()\n",
        "plt.show()"
      ],
      "metadata": {
        "colab": {
          "base_uri": "https://localhost:8080/",
          "height": 565
        },
        "id": "1ErofyoTtA_E",
        "outputId": "2f152405-bf5a-44c7-9c2b-1069e637f589"
      },
      "execution_count": 224,
      "outputs": [
        {
          "output_type": "display_data",
          "data": {
            "text/plain": [
              "<Figure size 1200x400 with 4 Axes>"
            ],
            "image/png": "[encoded data removed]"
          },
          "metadata": {}
        },
        {
          "output_type": "display_data",
          "data": {
            "text/plain": [
              "<Figure size 900x300 with 3 Axes>"
            ],
            "image/png": "[encoded data removed]"
          },
          "metadata": {}
        }
      ]
    },
    {
      "cell_type": "markdown",
      "source": [
        "## Bilinear Interpolation & Quantization"
      ],
      "metadata": {
        "id": "ljarQD5StLjo"
      }
    },
    {
      "cell_type": "code",
      "source": [
        "import numpy as np\n",
        "\n",
        "def upsampling_bilinear_gray(img, new_h, new_w):\n",
        "    '''\n",
        "    Upsampling dengan bilinear interpolation\n",
        "    - img: 2D array (H, W)\n",
        "    - new_h: tinggi citra target\n",
        "    - new_w: lebar citra target\n",
        "    '''\n",
        "    h, w = img.shape\n",
        "    out = np.zeros((new_h, new_w), dtype=np.int32)\n",
        "    for i in range(new_h):\n",
        "        for j in range(new_w):\n",
        "            x = j * (w - 1) / (new_w - 1)\n",
        "            y = i * (h - 1) / (new_h - 1)\n",
        "            x0, y0 = int(np.floor(x)), int(np.floor(y))\n",
        "            x1, y1 = min(x0 + 1, w - 1), min(y0 + 1, h - 1)\n",
        "            dx, dy = x - x0, y - y0\n",
        "            val = (img[y0, x0] * (1 - dx) * (1 - dy) +\n",
        "                   img[y0, x1] * dx * (1 - dy) +\n",
        "                   img[y1, x0] * (1 - dx) * dy +\n",
        "                   img[y1, x1] * dx * dy)\n",
        "            out[i, j] = np.round(val)\n",
        "    return out\n",
        "\n",
        "def quantize_index(img, out_bit=2):\n",
        "    \"\"\"\n",
        "    Kuantisasi gambar ke indeks level (0 .. 2^out_bit - 1)\n",
        "    \"\"\"\n",
        "    levels = 2 ** out_bit\n",
        "    img_min, img_max = img.min(), img.max()\n",
        "    # Normalisasi\n",
        "    norm = (img - img_min) / (img_max - img_min)\n",
        "\n",
        "    q_index = np.round(norm * (levels - 1)).astype(int)\n",
        "    return np.clip(q_index, 0, levels-1)\n",
        "\n",
        "def quantize_image_gray(img, out_bit=8):\n",
        "    \"\"\"\n",
        "    Kuantisasi grayscale ke n-bit dengan normalisasi min-max\n",
        "    - img: array (float atau int)\n",
        "    - out_bit: jumlah bit (misal 2, 4, 8)\n",
        "\n",
        "    Hasil akhir dalam bentuk nilai intensitas (0..255).\n",
        "    \"\"\"\n",
        "    levels = 2 ** out_bit\n",
        "    img_min, img_max = img.min(), img.max()\n",
        "\n",
        "    # Normalisasi ke [0,1]\n",
        "    norm = (img - img_min) / (img_max - img_min)\n",
        "\n",
        "    # Mapping ke level [0..levels-1]\n",
        "    idx = np.round(norm * (levels - 1))\n",
        "\n",
        "    # Skala balik ke [0..255]\n",
        "    step = 255 / (levels - 1)\n",
        "    q_img = (idx * step).astype(np.uint8)\n",
        "\n",
        "    return q_img"
      ],
      "metadata": {
        "id": "RqQwYtry0F20"
      },
      "execution_count": 225,
      "outputs": []
    },
    {
      "cell_type": "markdown",
      "source": [
        "Upsampling $⟶$ Quantization"
      ],
      "metadata": {
        "id": "wBcj8s1CImGt"
      }
    },
    {
      "cell_type": "code",
      "source": [
        "# Penggunaan\n",
        "X4 = np.array([\n",
        "    [76, 124, 244, 180],\n",
        "    [60,  72,  92, 108],\n",
        "    [24,  98, 130, 126],\n",
        "    [80, 235, 112, 142]\n",
        "], dtype=np.float64)\n",
        "\n",
        "# 1) Upsampling dengan bilinear interpolation (4x4 -> 8x8)\n",
        "up_bilinear = upsampling_bilinear_gray(X4, 8, 8)\n",
        "\n",
        "# 2) Kuantisasi versi index level\n",
        "up_bilinear_q2_idx = quantize_index(up_bilinear, out_bit=2)\n",
        "up_bilinear_q4_idx = quantize_index(up_bilinear, out_bit=4)\n",
        "up_bilinear_q8_idx = quantize_index(up_bilinear, out_bit=8)\n",
        "\n",
        "# 3) Kuantisasi versi intensitas ke 2-bit, 4-bit, 8-bit\n",
        "up_bilinear_q2 = quantize_image_gray(up_bilinear, out_bit=2)\n",
        "up_bilinear_q4 = quantize_image_gray(up_bilinear, out_bit=4)\n",
        "up_bilinear_q8 = quantize_image_gray(up_bilinear, out_bit=8)\n",
        "\n",
        "print(\"Hasil upsampling bilinear interpolation:\\n\", up_bilinear)\n",
        "print(\"\\n2-bit index (0-3):\\n\", up_bilinear_q2_idx)\n",
        "print(\"\\n4-bit index (0-15):\\n\", up_bilinear_q4_idx)\n",
        "print(\"\\n8-bit index (0-255):\\n\", up_bilinear_q8_idx)\n",
        "print(\"\\nKuantisasi 2-bit:\\n\", up_bilinear_q2)\n",
        "print(\"\\nKuantisasi 4-bit:\\n\", up_bilinear_q4)\n",
        "print(\"\\nKuantisasi 8-bit:\\n\", up_bilinear_q8)"
      ],
      "metadata": {
        "colab": {
          "base_uri": "https://localhost:8080/"
        },
        "id": "9LS7J9ZA0giz",
        "outputId": "d3b651b0-d226-4ab3-d4a7-52d276366d56"
      },
      "execution_count": 226,
      "outputs": [
        {
          "output_type": "stream",
          "name": "stdout",
          "text": [
            "Hasil upsampling bilinear interpolation:\n",
            " [[ 76  97 117 158 210 235 207 180]\n",
            " [ 69  83  97 124 157 175 162 149]\n",
            " [ 62  70  77  89 104 114 116 118]\n",
            " [ 50  62  75  86  96 104 109 113]\n",
            " [ 34  58  83  99 111 119 120 121]\n",
            " [ 32  69 105 120 125 128 128 128]\n",
            " [ 56 108 159 160 136 122 129 135]\n",
            " [ 80 146 213 200 147 116 129 142]]\n",
            "\n",
            "2-bit index (0-3):\n",
            " [[1 1 1 2 3 3 3 2]\n",
            " [1 1 1 1 2 2 2 2]\n",
            " [0 1 1 1 1 1 1 1]\n",
            " [0 0 1 1 1 1 1 1]\n",
            " [0 0 1 1 1 1 1 1]\n",
            " [0 1 1 1 1 1 1 1]\n",
            " [0 1 2 2 2 1 1 2]\n",
            " [1 2 3 2 2 1 1 2]]\n",
            "\n",
            "4-bit index (0-15):\n",
            " [[ 3  5  6  9 13 15 13 11]\n",
            " [ 3  4  5  7  9 11 10  9]\n",
            " [ 2  3  3  4  5  6  6  6]\n",
            " [ 1  2  3  4  5  5  6  6]\n",
            " [ 0  2  4  5  6  6  7  7]\n",
            " [ 0  3  5  7  7  7  7  7]\n",
            " [ 2  6  9  9  8  7  7  8]\n",
            " [ 4  8 13 12  8  6  7  8]]\n",
            "\n",
            "8-bit index (0-255):\n",
            " [[ 55  82 107 158 224 255 220 186]\n",
            " [ 46  64  82 116 157 180 163 147]\n",
            " [ 38  48  57  72  90 103 106 108]\n",
            " [ 23  38  54  68  80  90  97 102]\n",
            " [  3  33  64  84  99 109 111 112]\n",
            " [  0  46  92 111 117 121 121 121]\n",
            " [ 30  95 160 161 131 113 122 129]\n",
            " [ 60 143 227 211 144 106 122 138]]\n",
            "\n",
            "Kuantisasi 2-bit:\n",
            " [[ 85  85  85 170 255 255 255 170]\n",
            " [ 85  85  85  85 170 170 170 170]\n",
            " [  0  85  85  85  85  85  85  85]\n",
            " [  0   0  85  85  85  85  85  85]\n",
            " [  0   0  85  85  85  85  85  85]\n",
            " [  0  85  85  85  85  85  85  85]\n",
            " [  0  85 170 170 170  85  85 170]\n",
            " [ 85 170 255 170 170  85  85 170]]\n",
            "\n",
            "Kuantisasi 4-bit:\n",
            " [[ 51  85 102 153 221 255 221 187]\n",
            " [ 51  68  85 119 153 187 170 153]\n",
            " [ 34  51  51  68  85 102 102 102]\n",
            " [ 17  34  51  68  85  85 102 102]\n",
            " [  0  34  68  85 102 102 119 119]\n",
            " [  0  51  85 119 119 119 119 119]\n",
            " [ 34 102 153 153 136 119 119 136]\n",
            " [ 68 136 221 204 136 102 119 136]]\n",
            "\n",
            "Kuantisasi 8-bit:\n",
            " [[ 55  82 107 158 224 255 220 186]\n",
            " [ 46  64  82 116 157 180 163 147]\n",
            " [ 38  48  57  72  90 103 106 108]\n",
            " [ 23  38  54  68  80  90  97 102]\n",
            " [  3  33  64  84  99 109 111 112]\n",
            " [  0  46  92 111 117 121 121 121]\n",
            " [ 30  95 160 161 131 113 122 129]\n",
            " [ 60 143 227 211 144 106 122 138]]\n"
          ]
        }
      ]
    },
    {
      "cell_type": "markdown",
      "source": [
        "**Visualisasi** Upsampling $⟶$ Quantization"
      ],
      "metadata": {
        "id": "GQlV4T0QtcEv"
      }
    },
    {
      "cell_type": "code",
      "source": [
        "import matplotlib.pyplot as plt\n",
        "\n",
        "# --- Visualisasi intensitas (0–255) ---\n",
        "fig, axs = plt.subplots(1, 4, figsize=(12, 4))\n",
        "axs[0].imshow(X4, cmap=\"gray\", vmin=0, vmax=255)\n",
        "axs[0].set_title(\"Original 4x4\")\n",
        "axs[0].axis(\"off\")\n",
        "\n",
        "axs[1].imshow(up_bilinear_q2, cmap=\"gray\", vmin=0, vmax=255)\n",
        "axs[1].set_title(\"2-bit (0-255)\")\n",
        "axs[1].axis(\"off\")\n",
        "\n",
        "axs[2].imshow(up_bilinear_q4, cmap=\"gray\", vmin=0, vmax=255)\n",
        "axs[2].set_title(\"4-bit (0-255)\")\n",
        "axs[2].axis(\"off\")\n",
        "\n",
        "axs[3].imshow(up_bilinear_q8, cmap=\"gray\", vmin=0, vmax=255)\n",
        "axs[3].set_title(\"8-bit (0-255)\")\n",
        "axs[3].axis(\"off\")\n",
        "\n",
        "plt.tight_layout()\n",
        "plt.show()\n",
        "\n",
        "# --- Visualisasi index level ---\n",
        "fig, axs = plt.subplots(1, 3, figsize=(9, 3))\n",
        "axs[0].imshow(up_bilinear_q2_idx, cmap=\"gray\", vmin=0, vmax=3)\n",
        "axs[0].set_title(\"2-bit Index (0-3)\")\n",
        "axs[0].axis(\"off\")\n",
        "\n",
        "axs[1].imshow(up_bilinear_q4_idx, cmap=\"gray\", vmin=0, vmax=15)\n",
        "axs[1].set_title(\"4-bit Index (0-15)\")\n",
        "axs[1].axis(\"off\")\n",
        "\n",
        "axs[2].imshow(up_bilinear_q8_idx, cmap=\"gray\", vmin=0, vmax=255)\n",
        "axs[2].set_title(\"8-bit Index (0-255)\")\n",
        "axs[2].axis(\"off\")\n",
        "\n",
        "plt.tight_layout()\n",
        "plt.show()"
      ],
      "metadata": {
        "colab": {
          "base_uri": "https://localhost:8080/",
          "height": 565
        },
        "id": "w3B3BXWlteEh",
        "outputId": "b514ce7b-54c6-4838-c247-d19cfea85da1"
      },
      "execution_count": 227,
      "outputs": [
        {
          "output_type": "display_data",
          "data": {
            "text/plain": [
              "<Figure size 1200x400 with 4 Axes>"
            ],
            "image/png": "[encoded data removed]"
          },
          "metadata": {}
        },
        {
          "output_type": "display_data",
          "data": {
            "text/plain": [
              "<Figure size 900x300 with 3 Axes>"
            ],
            "image/png": "[encoded data removed]"
          },
          "metadata": {}
        }
      ]
    },
    {
      "cell_type": "markdown",
      "source": [
        "## Bicubic Interpolation & Quantization"
      ],
      "metadata": {
        "id": "qC50-aI5tjNH"
      }
    },
    {
      "cell_type": "code",
      "source": [
        "import numpy as np\n",
        "\n",
        "# Bicubic helper\n",
        "def cubic_kernel(x, a=-0.5):\n",
        "    x = abs(x)\n",
        "    if x < 1:\n",
        "        return (a+2)*x**3 - (a+3)*x**2 + 1\n",
        "    elif x < 2:\n",
        "        return a*x**3 - 5*a*x**2 + 8*a*x - 4*a\n",
        "    return 0\n",
        "\n",
        "def upsampling_bicubic_gray(img, new_h, new_w, a=-0.5):\n",
        "    H, W = img.shape\n",
        "    out = np.zeros((new_h, new_w), dtype=np.float64)\n",
        "    for i in range(new_h):\n",
        "        for j in range(new_w):\n",
        "            x = j * (W - 1) / (new_w - 1)\n",
        "            y = i * (H - 1) / (new_h - 1)\n",
        "            x0, y0 = int(np.floor(x)), int(np.floor(y))\n",
        "            dx, dy = x - x0, y - y0\n",
        "            val = 0.0\n",
        "            for m in range(-1, 3):\n",
        "                for n in range(-1, 3):\n",
        "                    xm, yn = np.clip(x0+m, 0, W-1), np.clip(y0+n, 0, H-1)\n",
        "                    wx, wy = cubic_kernel(m-dx, a), cubic_kernel(dy-n, a)\n",
        "                    val += img[yn, xm] * wx * wy\n",
        "            out[i, j] = np.round(val)\n",
        "    return out\n",
        "\n",
        "def quantize_index(img, out_bit=2):\n",
        "    \"\"\"\n",
        "    Kuantisasi gambar ke indeks level (0 .. 2^out_bit - 1)\n",
        "    \"\"\"\n",
        "    levels = 2 ** out_bit\n",
        "    img_min, img_max = img.min(), img.max()\n",
        "    # Normalisasi\n",
        "    norm = (img - img_min) / (img_max - img_min)\n",
        "\n",
        "    q_index = np.round(norm * (levels - 1)).astype(int)\n",
        "    return np.clip(q_index, 0, levels-1)\n",
        "\n",
        "def quantize_image_gray(img, out_bit=8):\n",
        "    \"\"\"\n",
        "    Kuantisasi grayscale ke n-bit dengan normalisasi min-max\n",
        "    - img: array (float atau int)\n",
        "    - out_bit: jumlah bit (misal 2, 4, 8)\n",
        "\n",
        "    Hasil akhir dalam bentuk nilai intensitas (0..255).\n",
        "    \"\"\"\n",
        "    levels = 2 ** out_bit\n",
        "    img_min, img_max = img.min(), img.max()\n",
        "\n",
        "    # Normalisasi ke [0,1]\n",
        "    norm = (img - img_min) / (img_max - img_min)\n",
        "\n",
        "    # Mapping ke level [0..levels-1]\n",
        "    idx = np.round(norm * (levels - 1))\n",
        "\n",
        "    # Skala balik ke [0..255]\n",
        "    step = 255 / (levels - 1)\n",
        "    q_img = (idx * step).astype(np.uint8)\n",
        "\n",
        "    return q_img"
      ],
      "metadata": {
        "id": "DzdjjC5ZtqoF"
      },
      "execution_count": 228,
      "outputs": []
    },
    {
      "cell_type": "markdown",
      "source": [
        "Upsampling $⟶$ Quantization"
      ],
      "metadata": {
        "id": "nfrxc0pRJ2RM"
      }
    },
    {
      "cell_type": "code",
      "source": [
        "# Penggunaan\n",
        "X4 = np.array([\n",
        "    [76, 124, 244, 180],\n",
        "    [60,  72,  92, 108],\n",
        "    [24,  98, 130, 126],\n",
        "    [80, 235, 112, 142]\n",
        "], dtype=np.float64)\n",
        "\n",
        "# 1) Upsampling dengan bicubic interpolation (4x4 -> 8x8)\n",
        "up_bicubic = upsampling_bicubic_gray(X4, 8, 8)\n",
        "\n",
        "# 2) Kuantisasi versi index level\n",
        "up_bicubic_q2_idx = quantize_index(up_bicubic, out_bit=2)\n",
        "up_bicubic_q4_idx = quantize_index(up_bicubic, out_bit=4)\n",
        "up_bicubic_q8_idx = quantize_index(up_bicubic, out_bit=8)\n",
        "\n",
        "# 3) Kuantisasi versi intensitas ke 2-bit, 4-bit, 8-bit\n",
        "up_bicubic_q2 = quantize_image_gray(up_bicubic, out_bit=2)\n",
        "up_bicubic_q4 = quantize_image_gray(up_bicubic, out_bit=4)\n",
        "up_bicubic_q8 = quantize_image_gray(up_bicubic, out_bit=8)\n",
        "\n",
        "print(\"Hasil upsampling bicubic interpolation:\\n\", up_bicubic)\n",
        "print(\"\\n2-bit index (0-3):\\n\", up_bicubic_q2_idx)\n",
        "print(\"\\n4-bit index (0-15):\\n\", up_bicubic_q4_idx)\n",
        "print(\"\\n8-bit index (0-255):\\n\", up_bicubic_q8_idx)\n",
        "print(\"\\nKuantisasi 2-bit:\\n\", up_bicubic_q2)\n",
        "print(\"\\nKuantisasi 4-bit:\\n\", up_bicubic_q4)\n",
        "print(\"\\nKuantisasi 8-bit:\\n\", up_bicubic_q8)"
      ],
      "metadata": {
        "colab": {
          "base_uri": "https://localhost:8080/"
        },
        "id": "BuXVIBnyJ7aH",
        "outputId": "7319b4e3-4c2b-46dd-891e-4e57cdb101d6"
      },
      "execution_count": 229,
      "outputs": [
        {
          "output_type": "stream",
          "name": "stdout",
          "text": [
            "Hasil upsampling bicubic interpolation:\n",
            " [[ 76.  89. 113. 158. 221. 244. 213. 180.]\n",
            " [ 71.  80.  94. 123. 164. 181. 166. 149.]\n",
            " [ 63.  67.  73.  84.  98. 108. 112. 114.]\n",
            " [ 48.  56.  67.  77.  85.  93. 101. 107.]\n",
            " [ 28.  48.  73.  93. 110. 120. 120. 118.]\n",
            " [ 28.  62. 104. 123. 129. 131. 130. 129.]\n",
            " [ 55. 110. 171. 175. 138. 120. 127. 136.]\n",
            " [ 80. 150. 226. 216. 144. 109. 123. 142.]]\n",
            "\n",
            "2-bit index (0-3):\n",
            " [[1 1 1 2 3 3 3 2]\n",
            " [1 1 1 1 2 2 2 2]\n",
            " [0 1 1 1 1 1 1 1]\n",
            " [0 0 1 1 1 1 1 1]\n",
            " [0 0 1 1 1 1 1 1]\n",
            " [0 0 1 1 1 1 1 1]\n",
            " [0 1 2 2 2 1 1 2]\n",
            " [1 2 3 3 2 1 1 2]]\n",
            "\n",
            "4-bit index (0-15):\n",
            " [[ 3  4  6  9 13 15 13 11]\n",
            " [ 3  4  5  7  9 11 10  8]\n",
            " [ 2  3  3  4  5  6  6  6]\n",
            " [ 1  2  3  3  4  5  5  5]\n",
            " [ 0  1  3  5  6  6  6  6]\n",
            " [ 0  2  5  7  7  7  7  7]\n",
            " [ 2  6 10 10  8  6  7  8]\n",
            " [ 4  8 14 13  8  6  7  8]]\n",
            "\n",
            "8-bit index (0-255):\n",
            " [[ 57  72 100 153 228 255 218 179]\n",
            " [ 51  61  78 112 161 181 163 143]\n",
            " [ 41  46  53  66  83  94  99 102]\n",
            " [ 24  33  46  58  67  77  86  93]\n",
            " [  0  24  53  77  97 109 109 106]\n",
            " [  0  40  90 112 119 122 120 119]\n",
            " [ 32  97 169 174 130 109 117 128]\n",
            " [ 61 144 234 222 137  96 112 135]]\n",
            "\n",
            "Kuantisasi 2-bit:\n",
            " [[ 85  85  85 170 255 255 255 170]\n",
            " [ 85  85  85  85 170 170 170 170]\n",
            " [  0  85  85  85  85  85  85  85]\n",
            " [  0   0  85  85  85  85  85  85]\n",
            " [  0   0  85  85  85  85  85  85]\n",
            " [  0   0  85  85  85  85  85  85]\n",
            " [  0  85 170 170 170  85  85 170]\n",
            " [ 85 170 255 255 170  85  85 170]]\n",
            "\n",
            "Kuantisasi 4-bit:\n",
            " [[ 51  68 102 153 221 255 221 187]\n",
            " [ 51  68  85 119 153 187 170 136]\n",
            " [ 34  51  51  68  85 102 102 102]\n",
            " [ 17  34  51  51  68  85  85  85]\n",
            " [  0  17  51  85 102 102 102 102]\n",
            " [  0  34  85 119 119 119 119 119]\n",
            " [ 34 102 170 170 136 102 119 136]\n",
            " [ 68 136 238 221 136 102 119 136]]\n",
            "\n",
            "Kuantisasi 8-bit:\n",
            " [[ 57  72 100 153 228 255 218 179]\n",
            " [ 51  61  78 112 161 181 163 143]\n",
            " [ 41  46  53  66  83  94  99 102]\n",
            " [ 24  33  46  58  67  77  86  93]\n",
            " [  0  24  53  77  97 109 109 106]\n",
            " [  0  40  90 112 119 122 120 119]\n",
            " [ 32  97 169 174 130 109 117 128]\n",
            " [ 61 144 234 222 137  96 112 135]]\n"
          ]
        }
      ]
    },
    {
      "cell_type": "markdown",
      "source": [
        "**Visualisasi** Upsampling $⟶$ Quantization"
      ],
      "metadata": {
        "id": "vVExcZyTu3XE"
      }
    },
    {
      "cell_type": "code",
      "source": [
        "import matplotlib.pyplot as plt\n",
        "\n",
        "# --- Visualisasi intensitas (0–255) ---\n",
        "fig, axs = plt.subplots(1, 4, figsize=(12, 4))\n",
        "axs[0].imshow(X4, cmap=\"gray\", vmin=0, vmax=255)\n",
        "axs[0].set_title(\"Original 4x4\")\n",
        "axs[0].axis(\"off\")\n",
        "\n",
        "axs[1].imshow(up_bicubic_q2, cmap=\"gray\", vmin=0, vmax=255)\n",
        "axs[1].set_title(\"2-bit (0-255)\")\n",
        "axs[1].axis(\"off\")\n",
        "\n",
        "axs[2].imshow(up_bicubic_q4, cmap=\"gray\", vmin=0, vmax=255)\n",
        "axs[2].set_title(\"4-bit (0-255)\")\n",
        "axs[2].axis(\"off\")\n",
        "\n",
        "axs[3].imshow(up_bicubic_q8, cmap=\"gray\", vmin=0, vmax=255)\n",
        "axs[3].set_title(\"8-bit (0-255)\")\n",
        "axs[3].axis(\"off\")\n",
        "\n",
        "plt.tight_layout()\n",
        "plt.show()\n",
        "\n",
        "# --- Visualisasi index level ---\n",
        "fig, axs = plt.subplots(1, 3, figsize=(9, 3))\n",
        "axs[0].imshow(up_bicubic_q2_idx, cmap=\"gray\", vmin=0, vmax=3)\n",
        "axs[0].set_title(\"2-bit Index (0-3)\")\n",
        "axs[0].axis(\"off\")\n",
        "\n",
        "axs[1].imshow(up_bicubic_q4_idx, cmap=\"gray\", vmin=0, vmax=15)\n",
        "axs[1].set_title(\"4-bit Index (0-15)\")\n",
        "axs[1].axis(\"off\")\n",
        "\n",
        "axs[2].imshow(up_bicubic_q8_idx, cmap=\"gray\", vmin=0, vmax=255)\n",
        "axs[2].set_title(\"8-bit Index (0-255)\")\n",
        "axs[2].axis(\"off\")\n",
        "\n",
        "plt.tight_layout()\n",
        "plt.show()"
      ],
      "metadata": {
        "colab": {
          "base_uri": "https://localhost:8080/",
          "height": 565
        },
        "id": "WqAXn8C2u5Bt",
        "outputId": "68b6848c-0a65-4e01-f17d-0f262b37408d"
      },
      "execution_count": 230,
      "outputs": [
        {
          "output_type": "display_data",
          "data": {
            "text/plain": [
              "<Figure size 1200x400 with 4 Axes>"
            ],
            "image/png": "[encoded data removed]"
          },
          "metadata": {}
        },
        {
          "output_type": "display_data",
          "data": {
            "text/plain": [
              "<Figure size 900x300 with 3 Axes>"
            ],
            "image/png": "[encoded data removed]"
          },
          "metadata": {}
        }
      ]
    },
    {
      "cell_type": "markdown",
      "source": [
        "# Contoh lain upsampling (tugas di kelas)"
      ],
      "metadata": {
        "id": "iXqMs1KLNQ6g"
      }
    },
    {
      "cell_type": "markdown",
      "source": [
        "Quantization $⟶$ Upsampling"
      ],
      "metadata": {
        "id": "6Wfxxyb4OC2e"
      }
    },
    {
      "cell_type": "code",
      "source": [
        "X3 = np.array([\n",
        "    [600, 700, 100],\n",
        "    [30,  240, 500],\n",
        "    [310,  470, 190]\n",
        "], dtype=np.float64)\n",
        "\n",
        "# 1) Kuantisasi versi index level\n",
        "quantized_x3_q2 = quantize_index(X3, out_bit=2)\n",
        "quantized_x3_q4 = quantize_index(X3, out_bit=4)\n",
        "quantized_x3_q8 = quantize_index(X3, out_bit=8)\n",
        "\n",
        "# 2) Upsampling 3x3 -> 5x5\n",
        "up_nearest_x3 = upsampling_nearest(quantized_x3_q2, 5, 5)\n",
        "up_bilinear_x3 = upsampling_bilinear_gray(quantized_x3_q2, 5, 5)\n",
        "up_bicubic_x3 = upsampling_bicubic_gray(quantized_x3_q2, 5, 5)\n",
        "\n",
        "print(\"Hasil quantisasi ke 2-bit:\\n\", quantized_x3_q2)\n",
        "print(\"Hasil quantisasi ke 4-bit:\\n\", quantized_x3_q4)\n",
        "print(\"Hasil quantisasi ke 8-bit:\\n\", quantized_x3_q8)\n",
        "\n",
        "print(\"\\nHasil upsampling nearest neighbor:\\n\", up_nearest_x3)\n",
        "print(\"\\nHasil upsampling bilinear interpolation:\\n\", up_bilinear_x3)\n",
        "print(\"\\nHasil upsampling bicubic interpolation:\\n\", up_bicubic_x3)"
      ],
      "metadata": {
        "colab": {
          "base_uri": "https://localhost:8080/"
        },
        "id": "P8IuJPlnNW_r",
        "outputId": "2925921a-d73a-452f-aa74-042849726619"
      },
      "execution_count": 231,
      "outputs": [
        {
          "output_type": "stream",
          "name": "stdout",
          "text": [
            "Hasil quantisasi ke 2-bit:\n",
            " [[3 3 0]\n",
            " [0 1 2]\n",
            " [1 2 1]]\n",
            "Hasil quantisasi ke 4-bit:\n",
            " [[13 15  2]\n",
            " [ 0  5 11]\n",
            " [ 6 10  4]]\n",
            "Hasil quantisasi ke 8-bit:\n",
            " [[217 255  27]\n",
            " [  0  80 179]\n",
            " [107 167  61]]\n",
            "\n",
            "Hasil upsampling nearest neighbor:\n",
            " [[3 3 3 0 0]\n",
            " [3 3 3 0 0]\n",
            " [0 0 1 2 2]\n",
            " [1 1 2 1 1]\n",
            " [1 1 2 1 1]]\n",
            "\n",
            "Hasil upsampling bilinear interpolation:\n",
            " [[3 3 3 2 0]\n",
            " [2 2 2 2 1]\n",
            " [0 0 1 2 2]\n",
            " [0 1 2 2 2]\n",
            " [1 2 2 2 1]]\n",
            "\n",
            "Hasil upsampling bicubic interpolation:\n",
            " [[3. 3. 3. 2. 0.]\n",
            " [1. 2. 2. 2. 1.]\n",
            " [0. 0. 1. 2. 2.]\n",
            " [0. 1. 1. 2. 2.]\n",
            " [1. 2. 2. 2. 1.]]\n"
          ]
        }
      ]
    },
    {
      "cell_type": "markdown",
      "source": [
        "# Referensi\n",
        "\n",
        "1. Gonzalez, R. C., & Woods, R. E. (2008). Digital image processing (3rd ed.). Prentice Hall.\n",
        "2. Keys, R. G. (1981). Cubic convolution interpolation for digital image processing. IEEE Transactions on Acoustics, Speech, and Signal Processing, 29(6), 1153–1160."
      ],
      "metadata": {
        "id": "vyaHH6UAt3vD"
      }
    }
  ]
}