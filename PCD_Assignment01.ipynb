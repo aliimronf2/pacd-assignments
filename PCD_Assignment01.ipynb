{
  "nbformat": 4,
  "nbformat_minor": 0,
  "metadata": {
    "colab": {
      "provenance": [],
      "authorship_tag": "ABX9TyM/W47JSBITmDjP6yOdLwVU",
      "include_colab_link": true
    },
    "kernelspec": {
      "name": "python3",
      "display_name": "Python 3"
    },
    "language_info": {
      "name": "python"
    }
  },
  "cells": [
    {
      "cell_type": "markdown",
      "metadata": {
        "id": "view-in-github",
        "colab_type": "text"
      },
      "source": [
        "<a href=\"https://colab.research.google.com/github/aliimronf2/pacd-assignments/blob/main/PCD_Assignment01.ipynb\" target=\"_parent\"><img src=\"https://colab.research.google.com/assets/colab-badge.svg\" alt=\"Open In Colab\"/></a>"
      ]
    },
    {
      "cell_type": "markdown",
      "source": [
        "This notebook contains several programs and the examples of each program to demonstrate in simple cases and the complex ones."
      ],
      "metadata": {
        "id": "boemcvYXSEm7"
      }
    },
    {
      "cell_type": "markdown",
      "source": [
        "## Downsampling"
      ],
      "metadata": {
        "id": "LUjkackkSbAF"
      }
    },
    {
      "cell_type": "code",
      "execution_count": null,
      "metadata": {
        "id": "8hk7IoSrR1Dz"
      },
      "outputs": [],
      "source": []
    },
    {
      "cell_type": "markdown",
      "source": [
        "## Upsampling\n"
      ],
      "metadata": {
        "id": "b3SCAhXKSdQN"
      }
    },
    {
      "cell_type": "code",
      "source": [],
      "metadata": {
        "id": "QcJuBiYDSfcK"
      },
      "execution_count": null,
      "outputs": []
    }
  ]
}